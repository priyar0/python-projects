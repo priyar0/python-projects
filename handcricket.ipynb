{
 "cells": [
  {
   "cell_type": "code",
   "execution_count": null,
   "id": "e0b0fc12",
   "metadata": {},
   "outputs": [],
   "source": [
    "def toss():\n",
    "   \n",
    "    print(\"Choose Odd or Even:\")\n",
    "    user_choice = input().lower()\n",
    "    \n",
    "    toss_result = random.choice([\"Odd\", \"Even\"])\n",
    "    \n",
    "    print(f\"The toss result is {toss_result.capitalize()}!\")\n",
    "    \n",
    "    if user_choice == toss_result:\n",
    "        print(\"You won the toss!\")\n",
    "        decision = input(\"Choose batting or bowling: \").lower()\n",
    "    else:\n",
    "        print(\"You lost the toss.\")\n",
    "        decision = random.choice([\"batting\", \"bowling\"])\n",
    "        print(f\"I choose {decision.capitalize()}.\")\n",
    "    \n",
    "    return decision"
   ]
  },
  {
   "cell_type": "code",
   "execution_count": null,
   "id": "77b43513",
   "metadata": {},
   "outputs": [],
   "source": [
    "def play_hand_cricket():\n",
    "    \n",
    "    print(\"Welcome to Hand Cricket!\")\n",
    "    \n",
    "    decision = toss()\n",
    "    \n",
    "    if decision == \"batting\":\n",
    "         play_batting()\n",
    "    else:\n",
    "        play_bowling()"
   ]
  },
  {
   "cell_type": "code",
   "execution_count": null,
   "id": "c7a11861",
   "metadata": {},
   "outputs": [],
   "source": [
    "def play_batting():\n",
    "    \n",
    "    print(\"You are batting. Enter your shot (1-6):\")\n",
    "    target = random.randint(20, 50)\n",
    "    total_runs = 0\n",
    "    \n",
    "    while True:\n",
    "        user_input = input()\n",
    "        \n",
    "        if int(user_input) > 6:\n",
    "            print(\"Enter a number between 1-6.\")\n",
    "            continue\n",
    "        \n",
    "        runs_scored = int(user_input)\n",
    "        bowler_ball = random.randint(1, 6)\n",
    "        \n",
    "        print(f\"Bowler's ball: {bowler_ball}\")\n",
    "        \n",
    "        if runs_scored == bowler_ball:\n",
    "            print(\"Out! Your innings is over.\")\n",
    "            break\n",
    "        else:\n",
    "            total_runs += runs_scored\n",
    "            print(f\"Your score: {total_runs}\")\n",
    "            \n",
    "        if total_runs > target:\n",
    "            print(\"Congratulations! You chased the target.\")\n",
    "            break"
   ]
  },
  {
   "cell_type": "code",
   "execution_count": null,
   "id": "c29f8777",
   "metadata": {},
   "outputs": [],
   "source": [
    "def play_bowling():\n",
    "    \n",
    "    print(\"You are bowling. Try to get the batsman out!\")\n",
    "    target = random.randint(20, 50) \n",
    "    \n",
    "    total_runs = 0\n",
    "    \n",
    "    while True:\n",
    "        bowler_ball = random.randint(1, 6)\n",
    "        \n",
    "        print(f\"Your ball: {bowler_ball}\")\n",
    "        \n",
    "        user_input = input(\"Enter your shot (1 to 6): \")\n",
    "        \n",
    "        if int(user_input) > 6:\n",
    "            print(\"Invalid input. Enter a number between 1 and 6.\")\n",
    "            continue\n",
    "        \n",
    "        runs_scored = int(user_input)\n",
    "        \n",
    "        if runs_scored == bowler_ball:\n",
    "            print(\"You got the batsman out!\")\n",
    "            \n",
    "            break\n",
    "        else:\n",
    "            total_runs += runs_scored\n",
    "            print(f\"Batsman's score: {total_runs}\")\n",
    "            \n",
    "        if total_runs > target:\n",
    "            print(\"Oops! The batsman chased the target.\")\n",
    "            break"
   ]
  },
  {
   "cell_type": "code",
   "execution_count": null,
   "id": "d1565534",
   "metadata": {},
   "outputs": [
    {
     "name": "stdout",
     "output_type": "stream",
     "text": [
      "Welcome to Hand Cricket!\n",
      "Choose Odd or Even:\n"
     ]
    }
   ],
   "source": [
    "# Start the game\n",
    "play_hand_cricket()"
   ]
  },
  {
   "cell_type": "code",
   "execution_count": null,
   "id": "3863e9eb",
   "metadata": {},
   "outputs": [],
   "source": []
  }
 ],
 "metadata": {
  "kernelspec": {
   "display_name": "Python 3 (ipykernel)",
   "language": "python",
   "name": "python3"
  },
  "language_info": {
   "codemirror_mode": {
    "name": "ipython",
    "version": 3
   },
   "file_extension": ".py",
   "mimetype": "text/x-python",
   "name": "python",
   "nbconvert_exporter": "python",
   "pygments_lexer": "ipython3",
   "version": "3.11.5"
  }
 },
 "nbformat": 4,
 "nbformat_minor": 5
}
