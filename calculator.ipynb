{
 "cells": [
  {
   "cell_type": "code",
   "execution_count": 42,
   "id": "b268485c",
   "metadata": {},
   "outputs": [],
   "source": [
    "from tkinter import *"
   ]
  },
  {
   "cell_type": "code",
   "execution_count": 43,
   "id": "50d2c780",
   "metadata": {},
   "outputs": [],
   "source": [
    "def clicked():\n",
    "    label.configure(text='', font = ('bold',16))"
   ]
  },
  {
   "cell_type": "code",
   "execution_count": 44,
   "id": "2e74a947",
   "metadata": {},
   "outputs": [],
   "source": [
    "window = Tk()\n",
    "window.title('CALCULATOR')\n",
    "window.geometry('300x340')\n",
    "\n",
    "equation = \"\"\n",
    "\n",
    "def show(value):\n",
    "    global equation\n",
    "    equation+=value\n",
    "    label.config(text=equation)\n",
    "    \n",
    "def clear():\n",
    "    global equation\n",
    "    equation=\"\"\n",
    "    label.config(text=equation)\n",
    "    \n",
    "    \n",
    "def calculate():\n",
    "    global equation\n",
    "    result=\"\"\n",
    "    if equation !=\"\":\n",
    "        try:\n",
    "            result = eval(equation)\n",
    "        except:\n",
    "            result= \"error\"\n",
    "            equation=\"\"\n",
    "    label.config(text=result)        \n",
    "    \n",
    "\n",
    "\n",
    "label = Label(window, width = 49, border = 3, justify = 'right')\n",
    "label.pack()\n",
    "\n",
    "\n",
    "button = Button(window, text = 'AC', height = 2, width = 8, command=lambda: clear())\n",
    "button.place(x = 10, y= 80)\n",
    "\n",
    "\n",
    "button = Button(window, text = '/', height = 2, width = 8, command=lambda:show('/'))\n",
    "button.place(x = 80 , y= 80)\n",
    "\n",
    "\n",
    "\n",
    "button = Button(window, text = '%', height = 2, width = 8, command=lambda: show('%'))\n",
    "button.place(x = 155, y= 80)\n",
    "\n",
    "\n",
    "button = Button(window, text = '*', height = 2, width = 8, command=lambda: show('*'))\n",
    "button.place(x = 230, y= 80)\n",
    "\n"
   ]
  },
  {
   "cell_type": "code",
   "execution_count": 45,
   "id": "972e1d39",
   "metadata": {},
   "outputs": [],
   "source": [
    "button = Button(window, text = '7', height = 2, width = 8, command=lambda: show('7'))\n",
    "button.place(x = 10, y= 130)\n",
    "\n",
    "\n",
    "button = Button(window, text = '8', height = 2, width = 8, command=lambda: show('8'))\n",
    "button.place(x = 80 , y= 130)\n",
    "\n",
    "\n",
    "button = Button(window, text = '9', height = 2, width = 8, command=lambda: show('9'))\n",
    "button.place(x = 155, y= 130)\n",
    "\n",
    "\n",
    "button = Button(window, text = 'x', height = 2, width = 8, command=lambda: show('x'))\n",
    "button.place(x = 230, y= 130)"
   ]
  },
  {
   "cell_type": "code",
   "execution_count": 46,
   "id": "5f21d412",
   "metadata": {},
   "outputs": [],
   "source": [
    "button = Button(window, text = '4', height = 2, width = 8, command=lambda: show('4'))\n",
    "button.place(x = 10, y= 180)\n",
    "\n",
    "\n",
    "button = Button(window, text = '5', height = 2, width = 8, command=lambda: show('5'))\n",
    "button.place(x = 80 , y= 180)\n",
    "\n",
    "\n",
    "button = Button(window, text = '6', height = 2, width = 8, command=lambda: show('6'))\n",
    "button.place(x = 155, y= 180)\n",
    "\n",
    "\n",
    "button = Button(window, text = '-', height = 2, width = 8, command=lambda: show('-'))\n",
    "button.place(x = 230, y= 180)"
   ]
  },
  {
   "cell_type": "code",
   "execution_count": 47,
   "id": "3b833523",
   "metadata": {},
   "outputs": [],
   "source": [
    "button = Button(window, text = '1', height = 2, width = 8, command=lambda: show('1'))\n",
    "button.place(x = 10, y= 230)\n",
    "\n",
    "\n",
    "button = Button(window, text = '2', height = 2, width = 8, command=lambda: show('2'))\n",
    "button.place(x = 80 , y= 230)\n",
    "\n",
    "\n",
    "button = Button(window, text = '3', height = 2, width = 8, command=lambda: show('3'))\n",
    "button.place(x = 155, y= 230)\n",
    "\n",
    "\n",
    "button = Button(window, text = '+', height = 2, width = 8, command=lambda: show('+'))\n",
    "button.place(x = 230, y= 230)"
   ]
  },
  {
   "cell_type": "code",
   "execution_count": 48,
   "id": "962aefc9",
   "metadata": {},
   "outputs": [],
   "source": [
    "button = Button(window, text = '0', height = 2, width = 18, command=lambda: show('0'))\n",
    "button.place(x = 10, y= 275)\n",
    "\n",
    "\n",
    "button = Button(window, text = '.', height = 2, width = 8, command=lambda: show('.'))\n",
    "button.place(x = 155, y= 275)\n",
    "\n",
    "\n",
    "button = Button(window, text = '=', height = 2, width = 8, bg = 'blue',command=lambda:calculate())\n",
    "button.place(x = 230, y= 275)"
   ]
  },
  {
   "cell_type": "code",
   "execution_count": null,
   "id": "b11d357c",
   "metadata": {},
   "outputs": [],
   "source": [
    "window.mainloop()\n"
   ]
  },
  {
   "cell_type": "code",
   "execution_count": null,
   "id": "25c59c28",
   "metadata": {},
   "outputs": [],
   "source": []
  }
 ],
 "metadata": {
  "kernelspec": {
   "display_name": "Python 3 (ipykernel)",
   "language": "python",
   "name": "python3"
  },
  "language_info": {
   "codemirror_mode": {
    "name": "ipython",
    "version": 3
   },
   "file_extension": ".py",
   "mimetype": "text/x-python",
   "name": "python",
   "nbconvert_exporter": "python",
   "pygments_lexer": "ipython3",
   "version": "3.11.5"
  }
 },
 "nbformat": 4,
 "nbformat_minor": 5
}
